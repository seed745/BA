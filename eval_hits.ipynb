{
 "cells": [
  {
   "cell_type": "code",
   "execution_count": 1,
   "metadata": {},
   "outputs": [
    {
     "name": "stderr",
     "output_type": "stream",
     "text": [
      "usage: eval_hits [-h] [-a AREA] file\n",
      "eval_hits: error: the following arguments are required: file\n"
     ]
    },
    {
     "ename": "SystemExit",
     "evalue": "2",
     "output_type": "error",
     "traceback": [
      "An exception has occurred, use %tb to see the full traceback.\n",
      "\u001b[0;31mSystemExit\u001b[0m\u001b[0;31m:\u001b[0m 2\n"
     ]
    },
    {
     "name": "stderr",
     "output_type": "stream",
     "text": [
      "/home/jasper/anaconda3/lib/python3.11/site-packages/IPython/core/interactiveshell.py:3585: UserWarning: To exit: use 'exit', 'quit', or Ctrl-D.\n",
      "  warn(\"To exit: use 'exit', 'quit', or Ctrl-D.\", stacklevel=1)\n"
     ]
    }
   ],
   "source": [
    "#script for adding .hits files to one readable file\n",
    "\n",
    "import pandas as pd \n",
    "import argparse\n",
    "import numpy as np\n",
    "\n",
    "#input of the filename filename.0.hits\n",
    "parser = argparse.ArgumentParser(prog=\"eval_hits\", description=\"Used for analyzing .hits files form Geant4\", epilog=\"Many Thanks to Nicolas Rohrbeck\")\n",
    "parser.add_argument(\"file\", type = str, help=\"inputfile of form path/to/filename.hits\")\n",
    "parser.add_argument(\"-a\", \"--area\", default=0, type= int, help=\"area of source in cm²\")\n",
    "#parser.add_argument(\"-i\", \"--itime\", action='store_true', help = \"Itime is calculated and printed to filename.Itime\")  # on/off flag\n",
    "args = vars(parser.parse_args())\n",
    "\n",
    "#reading the 0.hits file \n",
    "df = pd.read_csv(args[\"file\"],skiprows=1,names=[\"evid\",\"detid\"], sep='\\s+')\n",
    "\n",
    "#print(df.size)\n"
   ]
  },
  {
   "cell_type": "code",
   "execution_count": null,
   "metadata": {},
   "outputs": [],
   "source": [
    "\n",
    "#reading and adding the other.hits to df\n",
    "erg =[]\n",
    "for i in [1,2,3]:\n",
    "    erg.append(pd.read_csv(args[\"file\"][:-6]+str(i)+\".hits\",skiprows=1,names=[\"evid\",\"detid\"], sep='\\s+'))\n",
    "    #print(erg[i-1].size)\n",
    "    df = pd.concat([df,erg[i-1]],axis=0)\n",
    "\n",
    "sim = df.size\n",
    "print(sim)\n",
    "print()\n",
    "\n"
   ]
  },
  {
   "cell_type": "code",
   "execution_count": null,
   "metadata": {},
   "outputs": [],
   "source": [
    "#counting the coincidence events\n",
    "dupli = df[df.duplicated(subset=[\"evid\"],keep=False)]\n",
    "hits = dupli.groupby(\"detid\")[\"1\"].first().iloc[0]\n"
   ]
  }
 ],
 "metadata": {
  "kernelspec": {
   "display_name": "base",
   "language": "python",
   "name": "python3"
  },
  "language_info": {
   "codemirror_mode": {
    "name": "ipython",
    "version": 3
   },
   "file_extension": ".py",
   "mimetype": "text/x-python",
   "name": "python",
   "nbconvert_exporter": "python",
   "pygments_lexer": "ipython3",
   "version": "3.11.5"
  }
 },
 "nbformat": 4,
 "nbformat_minor": 2
}
