{
 "cells": [
  {
   "cell_type": "code",
   "execution_count": 28,
   "metadata": {},
   "outputs": [],
   "source": [
    "import numpy as np\n",
    "import util as u\n",
    "import pandas as pd"
   ]
  },
  {
   "cell_type": "code",
   "execution_count": 29,
   "metadata": {},
   "outputs": [],
   "source": [
    "file = \"/home/jasper/OneDrive/Uni/Bachelor/sim/perfect/fit.0.hits\"\n",
    "\n",
    "df = pd.read_csv(file,skiprows=1,names=[\"evid\",\"detid\",\"dphi\",\"dtheta\",\"pvdphi\",\"pvdtheta\"], sep='\\s+')"
   ]
  },
  {
   "cell_type": "code",
   "execution_count": 30,
   "metadata": {},
   "outputs": [
    {
     "data": {
      "text/html": [
       "<div>\n",
       "<style scoped>\n",
       "    .dataframe tbody tr th:only-of-type {\n",
       "        vertical-align: middle;\n",
       "    }\n",
       "\n",
       "    .dataframe tbody tr th {\n",
       "        vertical-align: top;\n",
       "    }\n",
       "\n",
       "    .dataframe thead th {\n",
       "        text-align: right;\n",
       "    }\n",
       "</style>\n",
       "<table border=\"1\" class=\"dataframe\">\n",
       "  <thead>\n",
       "    <tr style=\"text-align: right;\">\n",
       "      <th></th>\n",
       "      <th>evid</th>\n",
       "      <th>detid</th>\n",
       "      <th>dphi</th>\n",
       "      <th>dtheta</th>\n",
       "      <th>pvdphi</th>\n",
       "      <th>pvdtheta</th>\n",
       "    </tr>\n",
       "  </thead>\n",
       "  <tbody>\n",
       "    <tr>\n",
       "      <th>0</th>\n",
       "      <td>577</td>\n",
       "      <td>0</td>\n",
       "      <td>-2.54452</td>\n",
       "      <td>2.97629</td>\n",
       "      <td>-2.54452</td>\n",
       "      <td>2.97629</td>\n",
       "    </tr>\n",
       "    <tr>\n",
       "      <th>1</th>\n",
       "      <td>577</td>\n",
       "      <td>1</td>\n",
       "      <td>-2.54452</td>\n",
       "      <td>2.97629</td>\n",
       "      <td>-2.54452</td>\n",
       "      <td>2.97629</td>\n",
       "    </tr>\n",
       "    <tr>\n",
       "      <th>2</th>\n",
       "      <td>582</td>\n",
       "      <td>0</td>\n",
       "      <td>-2.74810</td>\n",
       "      <td>2.48440</td>\n",
       "      <td>-2.74810</td>\n",
       "      <td>2.48440</td>\n",
       "    </tr>\n",
       "    <tr>\n",
       "      <th>3</th>\n",
       "      <td>585</td>\n",
       "      <td>0</td>\n",
       "      <td>1.09850</td>\n",
       "      <td>2.10017</td>\n",
       "      <td>1.09850</td>\n",
       "      <td>2.10017</td>\n",
       "    </tr>\n",
       "    <tr>\n",
       "      <th>4</th>\n",
       "      <td>586</td>\n",
       "      <td>1</td>\n",
       "      <td>2.77012</td>\n",
       "      <td>2.74810</td>\n",
       "      <td>2.77012</td>\n",
       "      <td>2.74810</td>\n",
       "    </tr>\n",
       "  </tbody>\n",
       "</table>\n",
       "</div>"
      ],
      "text/plain": [
       "   evid  detid     dphi   dtheta   pvdphi  pvdtheta\n",
       "0   577      0 -2.54452  2.97629 -2.54452   2.97629\n",
       "1   577      1 -2.54452  2.97629 -2.54452   2.97629\n",
       "2   582      0 -2.74810  2.48440 -2.74810   2.48440\n",
       "3   585      0  1.09850  2.10017  1.09850   2.10017\n",
       "4   586      1  2.77012  2.74810  2.77012   2.74810"
      ]
     },
     "execution_count": 30,
     "metadata": {},
     "output_type": "execute_result"
    }
   ],
   "source": [
    "df.head(5)"
   ]
  },
  {
   "cell_type": "code",
   "execution_count": 31,
   "metadata": {},
   "outputs": [
    {
     "data": {
      "text/plain": [
       "1271202"
      ]
     },
     "execution_count": 31,
     "metadata": {},
     "output_type": "execute_result"
    }
   ],
   "source": [
    "df.size"
   ]
  },
  {
   "cell_type": "code",
   "execution_count": 32,
   "metadata": {},
   "outputs": [],
   "source": [
    "for i in [1,2]:\n",
    "    temp = pd.read_csv(file[:-6]+str(i)+\".hits\",skiprows=1,names=[\"evid\",\"detid\",\"dphi\",\"dtheta\",\"pvdphi\",\"pvdtheta\"], sep='\\s+')\n",
    "    df = pd.concat([df,temp],axis=0)"
   ]
  },
  {
   "cell_type": "code",
   "execution_count": 33,
   "metadata": {},
   "outputs": [
    {
     "data": {
      "text/html": [
       "<div>\n",
       "<style scoped>\n",
       "    .dataframe tbody tr th:only-of-type {\n",
       "        vertical-align: middle;\n",
       "    }\n",
       "\n",
       "    .dataframe tbody tr th {\n",
       "        vertical-align: top;\n",
       "    }\n",
       "\n",
       "    .dataframe thead th {\n",
       "        text-align: right;\n",
       "    }\n",
       "</style>\n",
       "<table border=\"1\" class=\"dataframe\">\n",
       "  <thead>\n",
       "    <tr style=\"text-align: right;\">\n",
       "      <th></th>\n",
       "      <th>evid</th>\n",
       "      <th>detid</th>\n",
       "      <th>dphi</th>\n",
       "      <th>dtheta</th>\n",
       "      <th>pvdphi</th>\n",
       "      <th>pvdtheta</th>\n",
       "    </tr>\n",
       "  </thead>\n",
       "  <tbody>\n",
       "    <tr>\n",
       "      <th>0</th>\n",
       "      <td>577</td>\n",
       "      <td>0</td>\n",
       "      <td>-2.54452</td>\n",
       "      <td>2.97629</td>\n",
       "      <td>-2.54452</td>\n",
       "      <td>2.97629</td>\n",
       "    </tr>\n",
       "    <tr>\n",
       "      <th>1</th>\n",
       "      <td>577</td>\n",
       "      <td>1</td>\n",
       "      <td>-2.54452</td>\n",
       "      <td>2.97629</td>\n",
       "      <td>-2.54452</td>\n",
       "      <td>2.97629</td>\n",
       "    </tr>\n",
       "    <tr>\n",
       "      <th>2</th>\n",
       "      <td>582</td>\n",
       "      <td>0</td>\n",
       "      <td>-2.74810</td>\n",
       "      <td>2.48440</td>\n",
       "      <td>-2.74810</td>\n",
       "      <td>2.48440</td>\n",
       "    </tr>\n",
       "    <tr>\n",
       "      <th>3</th>\n",
       "      <td>585</td>\n",
       "      <td>0</td>\n",
       "      <td>1.09850</td>\n",
       "      <td>2.10017</td>\n",
       "      <td>1.09850</td>\n",
       "      <td>2.10017</td>\n",
       "    </tr>\n",
       "    <tr>\n",
       "      <th>4</th>\n",
       "      <td>586</td>\n",
       "      <td>1</td>\n",
       "      <td>2.77012</td>\n",
       "      <td>2.74810</td>\n",
       "      <td>2.77012</td>\n",
       "      <td>2.74810</td>\n",
       "    </tr>\n",
       "  </tbody>\n",
       "</table>\n",
       "</div>"
      ],
      "text/plain": [
       "   evid  detid     dphi   dtheta   pvdphi  pvdtheta\n",
       "0   577      0 -2.54452  2.97629 -2.54452   2.97629\n",
       "1   577      1 -2.54452  2.97629 -2.54452   2.97629\n",
       "2   582      0 -2.74810  2.48440 -2.74810   2.48440\n",
       "3   585      0  1.09850  2.10017  1.09850   2.10017\n",
       "4   586      1  2.77012  2.74810  2.77012   2.74810"
      ]
     },
     "execution_count": 33,
     "metadata": {},
     "output_type": "execute_result"
    }
   ],
   "source": [
    "df.head(5)"
   ]
  },
  {
   "cell_type": "code",
   "execution_count": 34,
   "metadata": {},
   "outputs": [
    {
     "data": {
      "text/plain": [
       "3841278"
      ]
     },
     "execution_count": 34,
     "metadata": {},
     "output_type": "execute_result"
    }
   ],
   "source": [
    "df.size"
   ]
  },
  {
   "cell_type": "code",
   "execution_count": 45,
   "metadata": {},
   "outputs": [],
   "source": [
    "dupli = df[df.duplicated(subset=[\"evid\"],keep=False)]"
   ]
  },
  {
   "cell_type": "code",
   "execution_count": 46,
   "metadata": {},
   "outputs": [
    {
     "data": {
      "text/html": [
       "<div>\n",
       "<style scoped>\n",
       "    .dataframe tbody tr th:only-of-type {\n",
       "        vertical-align: middle;\n",
       "    }\n",
       "\n",
       "    .dataframe tbody tr th {\n",
       "        vertical-align: top;\n",
       "    }\n",
       "\n",
       "    .dataframe thead th {\n",
       "        text-align: right;\n",
       "    }\n",
       "</style>\n",
       "<table border=\"1\" class=\"dataframe\">\n",
       "  <thead>\n",
       "    <tr style=\"text-align: right;\">\n",
       "      <th></th>\n",
       "      <th>evid</th>\n",
       "      <th>detid</th>\n",
       "      <th>dphi</th>\n",
       "      <th>dtheta</th>\n",
       "      <th>pvdphi</th>\n",
       "      <th>pvdtheta</th>\n",
       "    </tr>\n",
       "  </thead>\n",
       "  <tbody>\n",
       "    <tr>\n",
       "      <th>0</th>\n",
       "      <td>577</td>\n",
       "      <td>0</td>\n",
       "      <td>-2.544520</td>\n",
       "      <td>2.97629</td>\n",
       "      <td>-2.544520</td>\n",
       "      <td>2.97629</td>\n",
       "    </tr>\n",
       "    <tr>\n",
       "      <th>1</th>\n",
       "      <td>577</td>\n",
       "      <td>1</td>\n",
       "      <td>-2.544520</td>\n",
       "      <td>2.97629</td>\n",
       "      <td>-2.544520</td>\n",
       "      <td>2.97629</td>\n",
       "    </tr>\n",
       "    <tr>\n",
       "      <th>6</th>\n",
       "      <td>588</td>\n",
       "      <td>0</td>\n",
       "      <td>2.402160</td>\n",
       "      <td>2.50519</td>\n",
       "      <td>2.402160</td>\n",
       "      <td>2.50519</td>\n",
       "    </tr>\n",
       "    <tr>\n",
       "      <th>7</th>\n",
       "      <td>588</td>\n",
       "      <td>1</td>\n",
       "      <td>2.402160</td>\n",
       "      <td>2.50519</td>\n",
       "      <td>2.402160</td>\n",
       "      <td>2.50519</td>\n",
       "    </tr>\n",
       "    <tr>\n",
       "      <th>16</th>\n",
       "      <td>602</td>\n",
       "      <td>0</td>\n",
       "      <td>0.619704</td>\n",
       "      <td>2.79758</td>\n",
       "      <td>0.619704</td>\n",
       "      <td>2.79758</td>\n",
       "    </tr>\n",
       "  </tbody>\n",
       "</table>\n",
       "</div>"
      ],
      "text/plain": [
       "    evid  detid      dphi   dtheta    pvdphi  pvdtheta\n",
       "0    577      0 -2.544520  2.97629 -2.544520   2.97629\n",
       "1    577      1 -2.544520  2.97629 -2.544520   2.97629\n",
       "6    588      0  2.402160  2.50519  2.402160   2.50519\n",
       "7    588      1  2.402160  2.50519  2.402160   2.50519\n",
       "16   602      0  0.619704  2.79758  0.619704   2.79758"
      ]
     },
     "execution_count": 46,
     "metadata": {},
     "output_type": "execute_result"
    }
   ],
   "source": [
    "dupli.head(5)"
   ]
  },
  {
   "cell_type": "code",
   "execution_count": 49,
   "metadata": {},
   "outputs": [
    {
     "data": {
      "text/plain": [
       "1631184"
      ]
     },
     "execution_count": 49,
     "metadata": {},
     "output_type": "execute_result"
    }
   ],
   "source": [
    "dupli.size"
   ]
  },
  {
   "cell_type": "code",
   "execution_count": 50,
   "metadata": {},
   "outputs": [
    {
     "data": {
      "text/plain": [
       "evid        999998.00000\n",
       "detid            1.00000\n",
       "dphi             3.14149\n",
       "dtheta           3.14054\n",
       "pvdphi           3.14149\n",
       "pvdtheta         3.14054\n",
       "dtype: float64"
      ]
     },
     "execution_count": 50,
     "metadata": {},
     "output_type": "execute_result"
    }
   ],
   "source": [
    "dupli.max()"
   ]
  },
  {
   "cell_type": "code",
   "execution_count": 55,
   "metadata": {},
   "outputs": [
    {
     "data": {
      "text/plain": [
       "179.9087476710785"
      ]
     },
     "execution_count": 55,
     "metadata": {},
     "output_type": "execute_result"
    }
   ],
   "source": [
    "np.rad2deg(3.14)"
   ]
  },
  {
   "cell_type": "code",
   "execution_count": 60,
   "metadata": {},
   "outputs": [
    {
     "data": {
      "text/plain": [
       "121.46705256773453"
      ]
     },
     "execution_count": 60,
     "metadata": {},
     "output_type": "execute_result"
    }
   ],
   "source": [
    "np.rad2deg(2.12)"
   ]
  },
  {
   "cell_type": "code",
   "execution_count": 61,
   "metadata": {},
   "outputs": [
    {
     "data": {
      "text/plain": [
       "evid        4.00000\n",
       "detid       0.00000\n",
       "dphi       -3.14156\n",
       "dtheta      2.12074\n",
       "pvdphi     -3.14156\n",
       "pvdtheta    2.12074\n",
       "dtype: float64"
      ]
     },
     "execution_count": 61,
     "metadata": {},
     "output_type": "execute_result"
    }
   ],
   "source": [
    "dupli.min()"
   ]
  },
  {
   "cell_type": "markdown",
   "metadata": {},
   "source": []
  },
  {
   "cell_type": "code",
   "execution_count": 62,
   "metadata": {},
   "outputs": [],
   "source": [
    "group = dupli.groupby(by=[\"detid\"]).indices\n",
    "\n",
    "r_source = 70 #mm\n",
    "area = (r_source/10)**2*np.pi\n",
    "\n",
    "hits = len(group[0])\n",
    "ratio = hits/1000000\n",
    "geofac = np.pi*area*ratio"
   ]
  },
  {
   "cell_type": "code",
   "execution_count": 63,
   "metadata": {},
   "outputs": [
    {
     "data": {
      "text/plain": [
       "135932"
      ]
     },
     "execution_count": 63,
     "metadata": {},
     "output_type": "execute_result"
    }
   ],
   "source": [
    "hits"
   ]
  },
  {
   "cell_type": "code",
   "execution_count": 64,
   "metadata": {},
   "outputs": [
    {
     "data": {
      "text/plain": [
       "65.73815820699504"
      ]
     },
     "execution_count": 64,
     "metadata": {},
     "output_type": "execute_result"
    }
   ],
   "source": [
    "geofac"
   ]
  }
 ],
 "metadata": {
  "kernelspec": {
   "display_name": "base",
   "language": "python",
   "name": "python3"
  },
  "language_info": {
   "codemirror_mode": {
    "name": "ipython",
    "version": 3
   },
   "file_extension": ".py",
   "mimetype": "text/x-python",
   "name": "python",
   "nbconvert_exporter": "python",
   "pygments_lexer": "ipython3",
   "version": "3.11.5"
  }
 },
 "nbformat": 4,
 "nbformat_minor": 2
}
