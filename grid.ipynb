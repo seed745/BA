{
 "cells": [
  {
   "cell_type": "code",
   "execution_count": 1,
   "metadata": {},
   "outputs": [],
   "source": [
    "import numpy as np\n",
    "import pandas as pd"
   ]
  },
  {
   "cell_type": "code",
   "execution_count": 2,
   "metadata": {},
   "outputs": [],
   "source": [
    "def geo(det1,det2):\n",
    "    group = dupli.groupby(by=[\"detid\"]).indices\n",
    "    print(group)\n",
    "    hits = len(group[0])\n",
    "    ratio = hits/10**7\n",
    "    geofac = np.pi*area*ratio\n",
    "    return geofac"
   ]
  },
  {
   "cell_type": "code",
   "execution_count": 3,
   "metadata": {},
   "outputs": [
    {
     "name": "stdout",
     "output_type": "stream",
     "text": [
      "2064335\n"
     ]
    }
   ],
   "source": [
    "file = \"/home/jasper/Bachelor/sim/simple_grid/test.0.hits\"\n",
    "\n",
    "df = pd.read_csv(file,skiprows=1,names=[\"evid\",\"detid\",\"x\",\"y\",\"z\",\"dphi\",\"dtheta\"], sep='\\s+')\n",
    "\n",
    "area = np.pi*(83/10)**2\n",
    "\n",
    "print(df.size)\n",
    "\n",
    "#reading and adding the other.hits to df\n",
    "\n",
    "for i in [1,2]:\n",
    "    temp = pd.read_csv(file[:-6]+str(i)+\".hits\",skiprows=1,names=[\"evid\",\"detid\",\"x\",\"y\",\"z\",\"dphi\",\"dtheta\"], sep='\\s+')\n",
    "    #print(temp.size)\n",
    "    df = pd.concat([df,temp],axis=0)\n",
    "\n",
    "#counting the coincidence events\n",
    "dupli = df[df.duplicated(subset=[\"evid\"],keep=False)]\n"
   ]
  },
  {
   "cell_type": "code",
   "execution_count": 4,
   "metadata": {},
   "outputs": [
    {
     "data": {
      "text/html": [
       "<div>\n",
       "<style scoped>\n",
       "    .dataframe tbody tr th:only-of-type {\n",
       "        vertical-align: middle;\n",
       "    }\n",
       "\n",
       "    .dataframe tbody tr th {\n",
       "        vertical-align: top;\n",
       "    }\n",
       "\n",
       "    .dataframe thead th {\n",
       "        text-align: right;\n",
       "    }\n",
       "</style>\n",
       "<table border=\"1\" class=\"dataframe\">\n",
       "  <thead>\n",
       "    <tr style=\"text-align: right;\">\n",
       "      <th></th>\n",
       "      <th>evid</th>\n",
       "      <th>detid</th>\n",
       "      <th>x</th>\n",
       "      <th>y</th>\n",
       "      <th>z</th>\n",
       "      <th>dphi</th>\n",
       "      <th>dtheta</th>\n",
       "    </tr>\n",
       "  </thead>\n",
       "  <tbody>\n",
       "    <tr>\n",
       "      <th>0</th>\n",
       "      <td>578</td>\n",
       "      <td>41</td>\n",
       "      <td>-2.58167</td>\n",
       "      <td>28.015500</td>\n",
       "      <td>5.0000</td>\n",
       "      <td>1.308310</td>\n",
       "      <td>2.34831</td>\n",
       "    </tr>\n",
       "    <tr>\n",
       "      <th>1</th>\n",
       "      <td>578</td>\n",
       "      <td>11</td>\n",
       "      <td>-9.23769</td>\n",
       "      <td>3.242700</td>\n",
       "      <td>30.2500</td>\n",
       "      <td>1.308310</td>\n",
       "      <td>2.34831</td>\n",
       "    </tr>\n",
       "    <tr>\n",
       "      <th>2</th>\n",
       "      <td>578</td>\n",
       "      <td>42</td>\n",
       "      <td>3.33453</td>\n",
       "      <td>50.034800</td>\n",
       "      <td>-17.4435</td>\n",
       "      <td>1.308310</td>\n",
       "      <td>2.34831</td>\n",
       "    </tr>\n",
       "    <tr>\n",
       "      <th>3</th>\n",
       "      <td>579</td>\n",
       "      <td>42</td>\n",
       "      <td>-12.45050</td>\n",
       "      <td>-36.086700</td>\n",
       "      <td>-25.0000</td>\n",
       "      <td>-0.036039</td>\n",
       "      <td>2.42597</td>\n",
       "    </tr>\n",
       "    <tr>\n",
       "      <th>4</th>\n",
       "      <td>579</td>\n",
       "      <td>22</td>\n",
       "      <td>-7.62877</td>\n",
       "      <td>-36.260500</td>\n",
       "      <td>-30.5500</td>\n",
       "      <td>-0.036039</td>\n",
       "      <td>2.42597</td>\n",
       "    </tr>\n",
       "    <tr>\n",
       "      <th>...</th>\n",
       "      <td>...</td>\n",
       "      <td>...</td>\n",
       "      <td>...</td>\n",
       "      <td>...</td>\n",
       "      <td>...</td>\n",
       "      <td>...</td>\n",
       "      <td>...</td>\n",
       "    </tr>\n",
       "    <tr>\n",
       "      <th>301375</th>\n",
       "      <td>999358</td>\n",
       "      <td>41</td>\n",
       "      <td>-19.25250</td>\n",
       "      <td>13.457000</td>\n",
       "      <td>5.0000</td>\n",
       "      <td>2.437970</td>\n",
       "      <td>2.23910</td>\n",
       "    </tr>\n",
       "    <tr>\n",
       "      <th>301376</th>\n",
       "      <td>999358</td>\n",
       "      <td>8</td>\n",
       "      <td>5.13412</td>\n",
       "      <td>-7.235030</td>\n",
       "      <td>30.2500</td>\n",
       "      <td>2.437970</td>\n",
       "      <td>2.23910</td>\n",
       "    </tr>\n",
       "    <tr>\n",
       "      <th>301377</th>\n",
       "      <td>999358</td>\n",
       "      <td>42</td>\n",
       "      <td>-38.46040</td>\n",
       "      <td>29.754900</td>\n",
       "      <td>-14.8879</td>\n",
       "      <td>2.437970</td>\n",
       "      <td>2.23910</td>\n",
       "    </tr>\n",
       "    <tr>\n",
       "      <th>301380</th>\n",
       "      <td>999361</td>\n",
       "      <td>41</td>\n",
       "      <td>-24.51430</td>\n",
       "      <td>-8.897180</td>\n",
       "      <td>5.0000</td>\n",
       "      <td>0.509792</td>\n",
       "      <td>2.58440</td>\n",
       "    </tr>\n",
       "    <tr>\n",
       "      <th>301381</th>\n",
       "      <td>999361</td>\n",
       "      <td>42</td>\n",
       "      <td>-8.19949</td>\n",
       "      <td>0.224225</td>\n",
       "      <td>-25.0000</td>\n",
       "      <td>0.509792</td>\n",
       "      <td>2.58440</td>\n",
       "    </tr>\n",
       "  </tbody>\n",
       "</table>\n",
       "<p>772788 rows × 7 columns</p>\n",
       "</div>"
      ],
      "text/plain": [
       "          evid  detid         x          y        z      dphi   dtheta\n",
       "0          578     41  -2.58167  28.015500   5.0000  1.308310  2.34831\n",
       "1          578     11  -9.23769   3.242700  30.2500  1.308310  2.34831\n",
       "2          578     42   3.33453  50.034800 -17.4435  1.308310  2.34831\n",
       "3          579     42 -12.45050 -36.086700 -25.0000 -0.036039  2.42597\n",
       "4          579     22  -7.62877 -36.260500 -30.5500 -0.036039  2.42597\n",
       "...        ...    ...       ...        ...      ...       ...      ...\n",
       "301375  999358     41 -19.25250  13.457000   5.0000  2.437970  2.23910\n",
       "301376  999358      8   5.13412  -7.235030  30.2500  2.437970  2.23910\n",
       "301377  999358     42 -38.46040  29.754900 -14.8879  2.437970  2.23910\n",
       "301380  999361     41 -24.51430  -8.897180   5.0000  0.509792  2.58440\n",
       "301381  999361     42  -8.19949   0.224225 -25.0000  0.509792  2.58440\n",
       "\n",
       "[772788 rows x 7 columns]"
      ]
     },
     "execution_count": 4,
     "metadata": {},
     "output_type": "execute_result"
    }
   ],
   "source": [
    "dupli"
   ]
  },
  {
   "cell_type": "code",
   "execution_count": 12,
   "metadata": {},
   "outputs": [],
   "source": [
    "counts = dupli[\"evid\"].value_counts()\n",
    "full_hits = dupli[dupli[\"evid\"].isin(counts[counts == 4].index)]"
   ]
  },
  {
   "cell_type": "code",
   "execution_count": 13,
   "metadata": {},
   "outputs": [
    {
     "data": {
      "text/html": [
       "<div>\n",
       "<style scoped>\n",
       "    .dataframe tbody tr th:only-of-type {\n",
       "        vertical-align: middle;\n",
       "    }\n",
       "\n",
       "    .dataframe tbody tr th {\n",
       "        vertical-align: top;\n",
       "    }\n",
       "\n",
       "    .dataframe thead th {\n",
       "        text-align: right;\n",
       "    }\n",
       "</style>\n",
       "<table border=\"1\" class=\"dataframe\">\n",
       "  <thead>\n",
       "    <tr style=\"text-align: right;\">\n",
       "      <th></th>\n",
       "      <th>evid</th>\n",
       "      <th>detid</th>\n",
       "      <th>x</th>\n",
       "      <th>y</th>\n",
       "      <th>z</th>\n",
       "      <th>dphi</th>\n",
       "      <th>dtheta</th>\n",
       "    </tr>\n",
       "  </thead>\n",
       "  <tbody>\n",
       "    <tr>\n",
       "      <th>55</th>\n",
       "      <td>664</td>\n",
       "      <td>41</td>\n",
       "      <td>-33.87690</td>\n",
       "      <td>26.70620</td>\n",
       "      <td>5.0000</td>\n",
       "      <td>-1.671000</td>\n",
       "      <td>2.86983</td>\n",
       "    </tr>\n",
       "    <tr>\n",
       "      <th>56</th>\n",
       "      <td>664</td>\n",
       "      <td>18</td>\n",
       "      <td>-33.17300</td>\n",
       "      <td>33.70700</td>\n",
       "      <td>30.2500</td>\n",
       "      <td>-1.671000</td>\n",
       "      <td>2.86983</td>\n",
       "    </tr>\n",
       "    <tr>\n",
       "      <th>57</th>\n",
       "      <td>664</td>\n",
       "      <td>42</td>\n",
       "      <td>-34.71320</td>\n",
       "      <td>18.38850</td>\n",
       "      <td>-25.0000</td>\n",
       "      <td>-1.671000</td>\n",
       "      <td>2.86983</td>\n",
       "    </tr>\n",
       "    <tr>\n",
       "      <th>58</th>\n",
       "      <td>664</td>\n",
       "      <td>35</td>\n",
       "      <td>-34.86790</td>\n",
       "      <td>16.84970</td>\n",
       "      <td>-30.5500</td>\n",
       "      <td>-1.671000</td>\n",
       "      <td>2.86983</td>\n",
       "    </tr>\n",
       "    <tr>\n",
       "      <th>70</th>\n",
       "      <td>678</td>\n",
       "      <td>41</td>\n",
       "      <td>2.01064</td>\n",
       "      <td>4.37091</td>\n",
       "      <td>5.0000</td>\n",
       "      <td>0.766618</td>\n",
       "      <td>2.24793</td>\n",
       "    </tr>\n",
       "    <tr>\n",
       "      <th>...</th>\n",
       "      <td>...</td>\n",
       "      <td>...</td>\n",
       "      <td>...</td>\n",
       "      <td>...</td>\n",
       "      <td>...</td>\n",
       "      <td>...</td>\n",
       "      <td>...</td>\n",
       "    </tr>\n",
       "    <tr>\n",
       "      <th>301318</th>\n",
       "      <td>999296</td>\n",
       "      <td>21</td>\n",
       "      <td>36.99130</td>\n",
       "      <td>-39.49000</td>\n",
       "      <td>-30.5500</td>\n",
       "      <td>-0.851213</td>\n",
       "      <td>2.33414</td>\n",
       "    </tr>\n",
       "    <tr>\n",
       "      <th>301371</th>\n",
       "      <td>999352</td>\n",
       "      <td>41</td>\n",
       "      <td>-32.18240</td>\n",
       "      <td>1.75414</td>\n",
       "      <td>5.0000</td>\n",
       "      <td>-1.643210</td>\n",
       "      <td>2.26562</td>\n",
       "    </tr>\n",
       "    <tr>\n",
       "      <th>301372</th>\n",
       "      <td>999352</td>\n",
       "      <td>18</td>\n",
       "      <td>-29.99070</td>\n",
       "      <td>31.96940</td>\n",
       "      <td>30.2500</td>\n",
       "      <td>-1.643210</td>\n",
       "      <td>2.26562</td>\n",
       "    </tr>\n",
       "    <tr>\n",
       "      <th>301373</th>\n",
       "      <td>999352</td>\n",
       "      <td>42</td>\n",
       "      <td>-34.62840</td>\n",
       "      <td>-31.96730</td>\n",
       "      <td>-23.1800</td>\n",
       "      <td>-1.643210</td>\n",
       "      <td>2.26562</td>\n",
       "    </tr>\n",
       "    <tr>\n",
       "      <th>301374</th>\n",
       "      <td>999352</td>\n",
       "      <td>23</td>\n",
       "      <td>-35.24730</td>\n",
       "      <td>-40.50000</td>\n",
       "      <td>-30.3105</td>\n",
       "      <td>-1.643210</td>\n",
       "      <td>2.26562</td>\n",
       "    </tr>\n",
       "  </tbody>\n",
       "</table>\n",
       "<p>120528 rows × 7 columns</p>\n",
       "</div>"
      ],
      "text/plain": [
       "          evid  detid         x         y        z      dphi   dtheta\n",
       "55         664     41 -33.87690  26.70620   5.0000 -1.671000  2.86983\n",
       "56         664     18 -33.17300  33.70700  30.2500 -1.671000  2.86983\n",
       "57         664     42 -34.71320  18.38850 -25.0000 -1.671000  2.86983\n",
       "58         664     35 -34.86790  16.84970 -30.5500 -1.671000  2.86983\n",
       "70         678     41   2.01064   4.37091   5.0000  0.766618  2.24793\n",
       "...        ...    ...       ...       ...      ...       ...      ...\n",
       "301318  999296     21  36.99130 -39.49000 -30.5500 -0.851213  2.33414\n",
       "301371  999352     41 -32.18240   1.75414   5.0000 -1.643210  2.26562\n",
       "301372  999352     18 -29.99070  31.96940  30.2500 -1.643210  2.26562\n",
       "301373  999352     42 -34.62840 -31.96730 -23.1800 -1.643210  2.26562\n",
       "301374  999352     23 -35.24730 -40.50000 -30.3105 -1.643210  2.26562\n",
       "\n",
       "[120528 rows x 7 columns]"
      ]
     },
     "execution_count": 13,
     "metadata": {},
     "output_type": "execute_result"
    }
   ],
   "source": [
    "test = full_hits[full_hits.duplicated(subset=[\"evid\"],keep=False)]\n",
    "test"
   ]
  },
  {
   "cell_type": "code",
   "execution_count": 20,
   "metadata": {},
   "outputs": [
    {
     "data": {
      "text/plain": [
       "30132"
      ]
     },
     "execution_count": 20,
     "metadata": {},
     "output_type": "execute_result"
    }
   ],
   "source": [
    "group = test[\"evid\"].nunique()\n",
    "group"
   ]
  },
  {
   "cell_type": "code",
   "execution_count": 22,
   "metadata": {},
   "outputs": [
    {
     "data": {
      "text/plain": [
       "20.4872604659606"
      ]
     },
     "execution_count": 22,
     "metadata": {},
     "output_type": "execute_result"
    }
   ],
   "source": [
    "hits = group\n",
    "ratio = hits/10**6\n",
    "geofac = np.pi*area*ratio\n",
    "geofac"
   ]
  },
  {
   "cell_type": "code",
   "execution_count": 23,
   "metadata": {},
   "outputs": [
    {
     "data": {
      "text/plain": [
       "0.01095"
      ]
     },
     "execution_count": 23,
     "metadata": {},
     "output_type": "execute_result"
    }
   ],
   "source": [
    "corner =[0.0103,0.0116]\n",
    "np.round(np.mean(corner),5)\n"
   ]
  },
  {
   "cell_type": "code",
   "execution_count": 24,
   "metadata": {},
   "outputs": [
    {
     "data": {
      "text/plain": [
       "0.00065"
      ]
     },
     "execution_count": 24,
     "metadata": {},
     "output_type": "execute_result"
    }
   ],
   "source": [
    "np.round(np.std(corner),6)"
   ]
  }
 ],
 "metadata": {
  "kernelspec": {
   "display_name": "base",
   "language": "python",
   "name": "python3"
  },
  "language_info": {
   "codemirror_mode": {
    "name": "ipython",
    "version": 3
   },
   "file_extension": ".py",
   "mimetype": "text/x-python",
   "name": "python",
   "nbconvert_exporter": "python",
   "pygments_lexer": "ipython3",
   "version": "3.11.5"
  }
 },
 "nbformat": 4,
 "nbformat_minor": 2
}
