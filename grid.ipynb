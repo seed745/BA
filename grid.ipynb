{
 "cells": [
  {
   "cell_type": "code",
   "execution_count": 2,
   "metadata": {},
   "outputs": [],
   "source": [
    "import numpy as np\n",
    "import pandas as pd"
   ]
  },
  {
   "cell_type": "code",
   "execution_count": null,
   "metadata": {},
   "outputs": [],
   "source": [
    "def geo(det1,det2):\n",
    "    group = dupli.groupby(by=[\"detid\"]).indices\n",
    "    print(group)\n",
    "    hits = len(group[0])\n",
    "    ratio = hits/1000000\n",
    "    geofac = np.pi*area*ratio\n",
    "    return geofac"
   ]
  },
  {
   "cell_type": "code",
   "execution_count": null,
   "metadata": {},
   "outputs": [],
   "source": [
    "file = \"/home/jasper/Bachelor/sim/simple_grid/test.0.hits\"\n",
    "\n",
    "df = pd.read_csv(file,skiprows=1,names=[\"evid\",\"detid\",\"x\",\"y\",\"z\",\"dphi\",\"dtheta\"], sep='\\s+')\n",
    "\n",
    "area = np.pi*(83/10)**2\n",
    "\n",
    "print(df.size)\n",
    "\n",
    "#reading and adding the other.hits to df\n",
    "\n",
    "for i in [1,2]:\n",
    "    temp = pd.read_csv(file[:-6]+str(i)+\".hits\",skiprows=1,names=[\"evid\",\"detid\",\"x\",\"y\",\"z\",\"dphi\",\"dtheta\"], sep='\\s+')\n",
    "    #print(temp.size)\n",
    "    df = pd.concat([df,temp],axis=0)\n",
    "\n",
    "#counting the coincidence events\n",
    "dupli = df[df.duplicated(subset=[\"evid\"],keep=False)]\n"
   ]
  },
  {
   "cell_type": "code",
   "execution_count": null,
   "metadata": {},
   "outputs": [],
   "source": [
    "dupli"
   ]
  },
  {
   "cell_type": "code",
   "execution_count": null,
   "metadata": {},
   "outputs": [],
   "source": [
    "counts = dupli[\"evid\"].value_counts()\n",
    "full_hits = dupli[dupli[\"evid\"].isin(counts[counts == 4].index)]"
   ]
  },
  {
   "cell_type": "code",
   "execution_count": null,
   "metadata": {},
   "outputs": [],
   "source": [
    "\"\"\" for i in range(21):\n",
    "    for j in range(21,41):\n",
    "         \"\"\"\n",
    "test = pd.concat([full_hits[full_hits[\"detid\"]==8], full_hits[full_hits[\"detid\"]==28]])\n",
    "test"
   ]
  },
  {
   "cell_type": "code",
   "execution_count": null,
   "metadata": {},
   "outputs": [],
   "source": [
    "test = test[test.duplicated(subset=[\"evid\"],keep=False)]\n",
    "test"
   ]
  },
  {
   "cell_type": "code",
   "execution_count": null,
   "metadata": {},
   "outputs": [],
   "source": [
    "group = test.groupby(by=[\"detid\"]).indices\n",
    "group"
   ]
  },
  {
   "cell_type": "code",
   "execution_count": null,
   "metadata": {},
   "outputs": [],
   "source": [
    "hits = len(group[8])\n",
    "ratio = hits/1000000\n",
    "geofac = np.pi*area*ratio\n",
    "geofac"
   ]
  },
  {
   "cell_type": "code",
   "execution_count": 6,
   "metadata": {},
   "outputs": [
    {
     "data": {
      "text/plain": [
       "0.01095"
      ]
     },
     "execution_count": 6,
     "metadata": {},
     "output_type": "execute_result"
    }
   ],
   "source": [
    "corner =[0.0103,0.0116]\n",
    "np.round(np.mean(corner),5)\n"
   ]
  },
  {
   "cell_type": "code",
   "execution_count": 7,
   "metadata": {},
   "outputs": [
    {
     "data": {
      "text/plain": [
       "0.00065"
      ]
     },
     "execution_count": 7,
     "metadata": {},
     "output_type": "execute_result"
    }
   ],
   "source": [
    "np.round(np.std(corner),6)"
   ]
  }
 ],
 "metadata": {
  "kernelspec": {
   "display_name": "base",
   "language": "python",
   "name": "python3"
  },
  "language_info": {
   "codemirror_mode": {
    "name": "ipython",
    "version": 3
   },
   "file_extension": ".py",
   "mimetype": "text/x-python",
   "name": "python",
   "nbconvert_exporter": "python",
   "pygments_lexer": "ipython3",
   "version": "3.11.5"
  }
 },
 "nbformat": 4,
 "nbformat_minor": 2
}
